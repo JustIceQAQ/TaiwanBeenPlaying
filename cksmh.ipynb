{
 "cells": [
  {
   "cell_type": "code",
   "execution_count": null,
   "metadata": {},
   "outputs": [],
   "source": [
    "import requests\n",
    "from bs4 import BeautifulSoup as bs\n",
    "import pandas as pd\n",
    "import json\n",
    "from IPython.core.interactiveshell import InteractiveShell\n",
    "InteractiveShell.ast_node_interactivity = \"all\""
   ]
  },
  {
   "cell_type": "code",
   "execution_count": null,
   "metadata": {},
   "outputs": [],
   "source": [
    "CheckPageInfo = True\n",
    "CheckPageNum = 1\n",
    "AllactivityList = []\n",
    "while CheckPageInfo:\n",
    "    req2 = requests.get(f'https://www.cksmh.gov.tw/exhibitionlist_105_{CheckPageNum}.html')\n",
    "    soup = bs(req2.text, 'html5lib')\n",
    "    if soup.select(\"ul.exhibition_cont li\"):\n",
    "        for i in soup.select(\"ul.exhibition_cont li\"):\n",
    "            S_Data = {}\n",
    "            S_Data['activityTitle'] = i.select(\"div a\")[0].text.strip()\n",
    "            S_Data['activityURL'] = i.select(\"div a\")[0]['href']\n",
    "            for i2 in i.select(\"dd div\"):\n",
    "                if '...' not in i2.text:\n",
    "                    label = i2.text.strip().split(\"：\")\n",
    "                    S_Data[label[0]] = label[1]\n",
    "                else:\n",
    "                    pass\n",
    "            AllactivityList.append(S_Data)\n",
    "        CheckPageNum+=1\n",
    "    else:\n",
    "        CheckPageInfo = False"
   ]
  },
  {
   "cell_type": "code",
   "execution_count": null,
   "metadata": {},
   "outputs": [],
   "source": [
    "DataDF = pd.DataFrame(AllactivityList)\n",
    "DataDF['activityURL'] = 'https://www.cksmh.gov.tw/' + DataDF['activityURL']\n",
    "DataDF['activityDateStart'], DataDF['activityDateEnd'] = DataDF['展覽時間'].str.split(' ~ ',expand=True)[0], DataDF['展覽時間'].str.split(' ~ ',expand=True)[1]\n",
    "DataDF[['activityTitle', 'activityDateStart', 'activityDateEnd', '活動地點', 'activityURL']]"
   ]
  },
  {
   "cell_type": "code",
   "execution_count": null,
   "metadata": {},
   "outputs": [],
   "source": []
  }
 ],
 "metadata": {
  "kernelspec": {
   "display_name": "Python 3",
   "language": "python",
   "name": "python3"
  },
  "language_info": {
   "codemirror_mode": {
    "name": "ipython",
    "version": 3
   },
   "file_extension": ".py",
   "mimetype": "text/x-python",
   "name": "python",
   "nbconvert_exporter": "python",
   "pygments_lexer": "ipython3",
   "version": "3.6.5"
  }
 },
 "nbformat": 4,
 "nbformat_minor": 2
}
