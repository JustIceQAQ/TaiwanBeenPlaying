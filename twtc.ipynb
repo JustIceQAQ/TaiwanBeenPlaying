{
 "cells": [
  {
   "cell_type": "code",
   "execution_count": null,
   "metadata": {},
   "outputs": [],
   "source": [
    "import requests\n",
    "from bs4 import BeautifulSoup as bs\n",
    "import pandas as pd\n",
    "import json\n",
    "from IPython.core.interactiveshell import InteractiveShell\n",
    "InteractiveShell.ast_node_interactivity = \"all\"\n",
    "import datetime"
   ]
  },
  {
   "cell_type": "code",
   "execution_count": null,
   "metadata": {},
   "outputs": [],
   "source": [
    "req = requests.get('http://www.twtc.com.tw/exhibition.aspx?p=home')\n",
    "soup = bs(req.text, 'html5lib')"
   ]
  },
  {
   "cell_type": "code",
   "execution_count": null,
   "metadata": {},
   "outputs": [],
   "source": [
    "fromData = {\n",
    "    # 今年\n",
    "    'ctl00$Body$ddlYear': datetime.datetime.now().year,\n",
    "    # 第幾季\n",
    "    'ctl00$Body$ddlMoth': datetime.datetime.now().month//4+1\n",
    "}\n",
    "for f in soup.select('input[type=\"hidden\"]'):\n",
    "    try:\n",
    "        fromData[f['name']] = f['value']\n",
    "    except KeyError:\n",
    "        pass\n",
    "dateTime = []\n",
    "title = []\n",
    "urlList = []\n",
    "local = []\n",
    "for n in range(datetime.datetime.now().month//4+1, 5):\n",
    "    fromData['ctl00$Body$ddlMoth'] = n\n",
    "    req2 = requests.post('http://www.twtc.com.tw/exhibition.aspx?p=home', data=fromData)\n",
    "    soup2 = bs(req2.text, 'html5lib')\n",
    "    for tr in soup2.find('table').findAll('tr'):\n",
    "        if tr.select('td'):\n",
    "            dateTime.append(tr.select('td')[0].text)\n",
    "            title.append(tr.select('td')[1].text[:-4].strip())\n",
    "            urlList.append(tr.select('td')[1].find('a')['href'])\n",
    "            local.append(tr.select('td')[4].text)\n",
    "    \n",
    "    "
   ]
  },
  {
   "cell_type": "code",
   "execution_count": null,
   "metadata": {},
   "outputs": [],
   "source": [
    "dData = {'dateTime':dateTime,\n",
    "        'title':title,\n",
    "        'local':local,\n",
    "        'urlList':urlList}"
   ]
  },
  {
   "cell_type": "code",
   "execution_count": null,
   "metadata": {},
   "outputs": [],
   "source": [
    "DataDF = pd.DataFrame(dData)"
   ]
  },
  {
   "cell_type": "code",
   "execution_count": null,
   "metadata": {},
   "outputs": [],
   "source": [
    "DataDF['datetimeStart'] = str(datetime.datetime.now().year) + '/' + DataDF['dateTime'].str.split(' ~ ',expand=True)[0]\n",
    "DataDF['datetimeEnd'] = str(datetime.datetime.now().year) + '/' + DataDF['dateTime'].str.split(' ~ ',expand=True)[1]\n",
    "DataDF['type'] = 'twtc'\n"
   ]
  },
  {
   "cell_type": "code",
   "execution_count": null,
   "metadata": {},
   "outputs": [],
   "source": [
    "DataDF[['title', 'datetimeStart', 'datetimeEnd', 'local', 'urlList', 'type']]"
   ]
  },
  {
   "cell_type": "code",
   "execution_count": null,
   "metadata": {},
   "outputs": [],
   "source": []
  }
 ],
 "metadata": {
  "kernelspec": {
   "display_name": "Python 3",
   "language": "python",
   "name": "python3"
  },
  "language_info": {
   "codemirror_mode": {
    "name": "ipython",
    "version": 3
   },
   "file_extension": ".py",
   "mimetype": "text/x-python",
   "name": "python",
   "nbconvert_exporter": "python",
   "pygments_lexer": "ipython3",
   "version": "3.6.5"
  }
 },
 "nbformat": 4,
 "nbformat_minor": 2
}
