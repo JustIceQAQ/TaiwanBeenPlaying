{
 "cells": [
  {
   "cell_type": "code",
   "execution_count": null,
   "metadata": {},
   "outputs": [],
   "source": [
    "import requests\n",
    "from bs4 import BeautifulSoup as bs\n",
    "import pandas as pd\n",
    "import json\n",
    "from IPython.core.interactiveshell import InteractiveShell\n",
    "InteractiveShell.ast_node_interactivity = \"all\""
   ]
  },
  {
   "cell_type": "code",
   "execution_count": null,
   "metadata": {},
   "outputs": [],
   "source": [
    "CheckPageInfo = True\n",
    "CheckPageNum = 1\n",
    "AllactivityList = []\n",
    "while CheckPageInfo:\n",
    "    req2 = requests.get(f'https://www.songshanculturalpark.org/ExhibitionList.aspx?kind=0&type=1&p={CheckPageNum}&q=get')\n",
    "    jsonList = json.loads(req2.text)['items']\n",
    "    if jsonList:\n",
    "        AllactivityList.extend(jsonList)\n",
    "        CheckPageNum+=1\n",
    "    else:\n",
    "        CheckPageInfo = False"
   ]
  },
  {
   "cell_type": "code",
   "execution_count": null,
   "metadata": {},
   "outputs": [],
   "source": [
    "dataDF = pd.DataFrame(AllactivityList)\n",
    "dataDF['ID'] = 'https://www.songshanculturalpark.org/Exhibition.aspx?ID=' + data['ID']\n",
    "dataDF['activityDateStart'], dataDF['activityDateEnd'] = dataDF['PublishDate'].str.split('~',expand=True)[0], dataDF['PublishDate'].str.split('~',expand=True)[1]"
   ]
  },
  {
   "cell_type": "code",
   "execution_count": null,
   "metadata": {},
   "outputs": [],
   "source": [
    "dataDF[['Title', 'activityDateStart', 'activityDateEnd', 'ID']]"
   ]
  }
 ],
 "metadata": {
  "kernelspec": {
   "display_name": "Python 3",
   "language": "python",
   "name": "python3"
  },
  "language_info": {
   "codemirror_mode": {
    "name": "ipython",
    "version": 3
   },
   "file_extension": ".py",
   "mimetype": "text/x-python",
   "name": "python",
   "nbconvert_exporter": "python",
   "pygments_lexer": "ipython3",
   "version": "3.6.5"
  }
 },
 "nbformat": 4,
 "nbformat_minor": 2
}
